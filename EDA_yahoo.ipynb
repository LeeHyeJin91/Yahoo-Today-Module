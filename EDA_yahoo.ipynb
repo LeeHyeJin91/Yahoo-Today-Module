{
 "cells": [
  {
   "cell_type": "markdown",
   "id": "9ca08454",
   "metadata": {},
   "source": [
    "# Yahoo Today Module"
   ]
  },
  {
   "cell_type": "markdown",
   "id": "807f2757",
   "metadata": {},
   "source": [
    "* Setup\n",
    "```bash\n",
    "$ git clone https://github.com/antonismand/Personalized-News-Recommendation.git\n",
    "$ cd Personalized-News-Recommendation\n",
    "```\n",
    "\n",
    "* [Yahoo Webscope](https://webscope.sandbox.yahoo.com/catalog.php?datatype=i&did=67)\n",
    "    * R6A - Yahoo! Front Page Today Module User Click Log Dataset, version 1.0 (1.1 GB)"
   ]
  },
  {
   "cell_type": "markdown",
   "id": "c669cecf",
   "metadata": {},
   "source": [
    "\n",
    "\n",
    "<p align=\"center\"><img src=\"https://user-images.githubusercontent.com/43728746/136052879-8da8e395-dcfa-47ab-b17c-7d08f8ce76dc.png\" width=\"47%\"></p>"
   ]
  },
  {
   "cell_type": "markdown",
   "id": "260072c5",
   "metadata": {},
   "source": [
    "# EDA"
   ]
  },
  {
   "cell_type": "code",
   "execution_count": 2,
   "id": "bd0250fb",
   "metadata": {},
   "outputs": [
    {
     "data": {
      "text/html": [
       "<style>.container { width:80% !important; }</style>"
      ],
      "text/plain": [
       "<IPython.core.display.HTML object>"
      ]
     },
     "metadata": {},
     "output_type": "display_data"
    }
   ],
   "source": [
    "from IPython.core.display import display, HTML \n",
    "display(HTML(\"<style>.container { width:80% !important; }</style>\"))"
   ]
  },
  {
   "cell_type": "code",
   "execution_count": 3,
   "id": "fefc4c5f",
   "metadata": {},
   "outputs": [],
   "source": [
    "import gzip\n",
    "import fileinput\n",
    "import numpy as np\n",
    "from matplotlib import pyplot as plt\n",
    "from datetime import datetime\n",
    "from collections import Counter"
   ]
  },
  {
   "cell_type": "code",
   "execution_count": 4,
   "id": "6a1c7800",
   "metadata": {},
   "outputs": [],
   "source": [
    "articles = []\n",
    "features = []\n",
    "events = []\n",
    "timestamp = []\n",
    "skipped = 0\n",
    "\n",
    "output_file_name = './ydata-fp-td-clicks-v1_0.20090502.gz'\n",
    "with gzip.open(output_file_name, \"rb\") as f:\n",
    "    for line in f: # each line corresponds to a separate user visit\n",
    "        cols = line.split()\n",
    "        if (len(cols) - 10) % 7 != 0:\n",
    "            skipped += 1 # erroneous data\n",
    "        else:\n",
    "            time = datetime.utcfromtimestamp(int(cols[0])).strftime('%Y-%m-%d %H:%M:%S')\n",
    "            timestamp.append(time)\n",
    "            pool_idx = []\n",
    "            pool_ids = []\n",
    "            for i in range(10, len(cols) - 6, 7):\n",
    "                id = cols[i][1:]\n",
    "                if id not in articles:\n",
    "                    articles.append(id)\n",
    "                    features.append([float(x[2:]) for x in cols[i + 1: i + 7]])\n",
    "                pool_idx.append(articles.index(id))\n",
    "                pool_ids.append(id)\n",
    "\n",
    "            events.append(\n",
    "                [\n",
    "                    pool_ids.index(cols[1]),\n",
    "                    int(cols[2]),\n",
    "                    [float(x[2:]) for x in cols[4:10]],\n",
    "                    pool_idx,\n",
    "                ]\n",
    "            )\n"
   ]
  },
  {
   "cell_type": "code",
   "execution_count": null,
   "id": "40b83971",
   "metadata": {},
   "outputs": [],
   "source": []
  },
  {
   "cell_type": "markdown",
   "id": "1686a33f",
   "metadata": {},
   "source": [
    "## 1. Details"
   ]
  },
  {
   "cell_type": "code",
   "execution_count": 5,
   "id": "8b1ad6f6",
   "metadata": {},
   "outputs": [
    {
     "name": "stdout",
     "output_type": "stream",
     "text": [
      "전체 article 수: 42\n",
      "전체 event(방문 로그) 수: 3679695\n"
     ]
    }
   ],
   "source": [
    "print('전체 article 수:', len(articles))\n",
    "print('전체 event(방문 로그) 수:', len(events)) "
   ]
  },
  {
   "cell_type": "code",
   "execution_count": 6,
   "id": "6bafd349",
   "metadata": {},
   "outputs": [
    {
     "name": "stdout",
     "output_type": "stream",
     "text": [
      "logging start: 2009-05-02 06:55:00\n",
      "logging end: 2009-05-03 06:55:00\n"
     ]
    },
    {
     "data": {
      "text/plain": [
       "Counter({'2009-05-02 06:55:00': 1833,\n",
       "         '2009-05-02 07:00:00': 7288,\n",
       "         '2009-05-02 07:05:00': 7227,\n",
       "         '2009-05-02 07:10:00': 7414,\n",
       "         '2009-05-02 07:15:00': 6932,\n",
       "         '2009-05-02 07:20:00': 6929,\n",
       "         '2009-05-02 07:25:00': 6902,\n",
       "         '2009-05-02 07:30:00': 6721,\n",
       "         '2009-05-02 07:35:00': 6801,\n",
       "         '2009-05-02 07:40:00': 6722,\n",
       "         '2009-05-02 07:45:00': 6650,\n",
       "         '2009-05-02 07:50:00': 6362,\n",
       "         '2009-05-02 07:55:00': 6550,\n",
       "         '2009-05-02 08:00:00': 6317,\n",
       "         '2009-05-02 08:05:00': 6318,\n",
       "         '2009-05-02 08:10:00': 6145,\n",
       "         '2009-05-02 08:15:00': 6195,\n",
       "         '2009-05-02 08:20:00': 6249,\n",
       "         '2009-05-02 08:25:00': 5954,\n",
       "         '2009-05-02 08:30:00': 5889,\n",
       "         '2009-05-02 08:35:00': 5836,\n",
       "         '2009-05-02 08:40:00': 5816,\n",
       "         '2009-05-02 08:45:00': 5834,\n",
       "         '2009-05-02 08:50:00': 5697,\n",
       "         '2009-05-02 08:55:00': 5598,\n",
       "         '2009-05-02 09:00:00': 5673,\n",
       "         '2009-05-02 09:05:00': 5593,\n",
       "         '2009-05-02 09:10:00': 5659,\n",
       "         '2009-05-02 09:15:00': 5819,\n",
       "         '2009-05-02 09:20:00': 5792,\n",
       "         '2009-05-02 09:25:00': 5848,\n",
       "         '2009-05-02 09:30:00': 5640,\n",
       "         '2009-05-02 09:35:00': 5716,\n",
       "         '2009-05-02 09:40:00': 5685,\n",
       "         '2009-05-02 09:45:00': 5829,\n",
       "         '2009-05-02 09:50:00': 5713,\n",
       "         '2009-05-02 09:55:00': 5801,\n",
       "         '2009-05-02 10:00:00': 6182,\n",
       "         '2009-05-02 10:05:00': 5990,\n",
       "         '2009-05-02 10:10:00': 6131,\n",
       "         '2009-05-02 10:15:00': 6210,\n",
       "         '2009-05-02 10:20:00': 6104,\n",
       "         '2009-05-02 10:25:00': 6538,\n",
       "         '2009-05-02 10:30:00': 6615,\n",
       "         '2009-05-02 10:35:00': 6506,\n",
       "         '2009-05-02 10:40:00': 6645,\n",
       "         '2009-05-02 10:45:00': 6926,\n",
       "         '2009-05-02 10:50:00': 7067,\n",
       "         '2009-05-02 10:55:00': 7141,\n",
       "         '2009-05-02 11:00:00': 7673,\n",
       "         '2009-05-02 11:05:00': 7738,\n",
       "         '2009-05-02 11:10:00': 7896,\n",
       "         '2009-05-02 11:15:00': 8256,\n",
       "         '2009-05-02 11:20:00': 8421,\n",
       "         '2009-05-02 11:25:00': 8551,\n",
       "         '2009-05-02 11:30:00': 8845,\n",
       "         '2009-05-02 11:35:00': 9149,\n",
       "         '2009-05-02 11:40:00': 9257,\n",
       "         '2009-05-02 11:45:00': 9513,\n",
       "         '2009-05-02 11:50:00': 9877,\n",
       "         '2009-05-02 11:55:00': 9884,\n",
       "         '2009-05-02 12:00:00': 10474,\n",
       "         '2009-05-02 12:05:00': 10561,\n",
       "         '2009-05-02 12:10:00': 11151,\n",
       "         '2009-05-02 12:15:00': 11202,\n",
       "         '2009-05-02 12:20:00': 11396,\n",
       "         '2009-05-02 12:25:00': 11796,\n",
       "         '2009-05-02 12:30:00': 12127,\n",
       "         '2009-05-02 12:35:00': 12114,\n",
       "         '2009-05-02 12:40:00': 12539,\n",
       "         '2009-05-02 12:45:00': 12794,\n",
       "         '2009-05-02 12:50:00': 12880,\n",
       "         '2009-05-02 12:55:00': 13100,\n",
       "         '2009-05-02 13:00:00': 13666,\n",
       "         '2009-05-02 13:05:00': 13665,\n",
       "         '2009-05-02 13:10:00': 14065,\n",
       "         '2009-05-02 13:15:00': 14271,\n",
       "         '2009-05-02 13:20:00': 14351,\n",
       "         '2009-05-02 13:25:00': 14575,\n",
       "         '2009-05-02 13:30:00': 14509,\n",
       "         '2009-05-02 13:35:00': 14846,\n",
       "         '2009-05-02 13:40:00': 14968,\n",
       "         '2009-05-02 13:45:00': 15115,\n",
       "         '2009-05-02 13:50:00': 15314,\n",
       "         '2009-05-02 13:55:00': 15567,\n",
       "         '2009-05-02 14:00:00': 15648,\n",
       "         '2009-05-02 14:05:00': 15964,\n",
       "         '2009-05-02 14:10:00': 16242,\n",
       "         '2009-05-02 14:15:00': 16239,\n",
       "         '2009-05-02 14:20:00': 16310,\n",
       "         '2009-05-02 14:25:00': 16378,\n",
       "         '2009-05-02 14:30:00': 16679,\n",
       "         '2009-05-02 14:35:00': 16552,\n",
       "         '2009-05-02 14:40:00': 16521,\n",
       "         '2009-05-02 14:45:00': 16677,\n",
       "         '2009-05-02 14:50:00': 17068,\n",
       "         '2009-05-02 14:55:00': 16719,\n",
       "         '2009-05-02 15:00:00': 17006,\n",
       "         '2009-05-02 15:05:00': 17014,\n",
       "         '2009-05-02 15:10:00': 17271,\n",
       "         '2009-05-02 15:15:00': 17128,\n",
       "         '2009-05-02 15:20:00': 17146,\n",
       "         '2009-05-02 15:25:00': 17167,\n",
       "         '2009-05-02 15:30:00': 17517,\n",
       "         '2009-05-02 15:35:00': 17269,\n",
       "         '2009-05-02 15:40:00': 17045,\n",
       "         '2009-05-02 15:45:00': 17096,\n",
       "         '2009-05-02 15:50:00': 16790,\n",
       "         '2009-05-02 15:55:00': 17071,\n",
       "         '2009-05-02 16:00:00': 17383,\n",
       "         '2009-05-02 16:05:00': 17244,\n",
       "         '2009-05-02 16:10:00': 17319,\n",
       "         '2009-05-02 16:15:00': 17164,\n",
       "         '2009-05-02 16:20:00': 16885,\n",
       "         '2009-05-02 16:25:00': 16967,\n",
       "         '2009-05-02 16:30:00': 17402,\n",
       "         '2009-05-02 16:35:00': 17289,\n",
       "         '2009-05-02 16:40:00': 17154,\n",
       "         '2009-05-02 16:45:00': 16872,\n",
       "         '2009-05-02 16:50:00': 17072,\n",
       "         '2009-05-02 16:55:00': 17058,\n",
       "         '2009-05-02 17:00:00': 16840,\n",
       "         '2009-05-02 17:05:00': 16950,\n",
       "         '2009-05-02 17:10:00': 16886,\n",
       "         '2009-05-02 17:15:00': 16823,\n",
       "         '2009-05-02 17:20:00': 16782,\n",
       "         '2009-05-02 17:25:00': 16888,\n",
       "         '2009-05-02 17:30:00': 16870,\n",
       "         '2009-05-02 17:35:00': 16782,\n",
       "         '2009-05-02 17:40:00': 16421,\n",
       "         '2009-05-02 17:45:00': 16746,\n",
       "         '2009-05-02 17:50:00': 16552,\n",
       "         '2009-05-02 17:55:00': 16504,\n",
       "         '2009-05-02 18:00:00': 16649,\n",
       "         '2009-05-02 18:05:00': 16753,\n",
       "         '2009-05-02 18:10:00': 16324,\n",
       "         '2009-05-02 18:15:00': 16367,\n",
       "         '2009-05-02 18:20:00': 16045,\n",
       "         '2009-05-02 18:25:00': 16336,\n",
       "         '2009-05-02 18:30:00': 16558,\n",
       "         '2009-05-02 18:35:00': 15998,\n",
       "         '2009-05-02 18:40:00': 16014,\n",
       "         '2009-05-02 18:45:00': 15853,\n",
       "         '2009-05-02 18:50:00': 16038,\n",
       "         '2009-05-02 18:55:00': 15864,\n",
       "         '2009-05-02 19:00:00': 15805,\n",
       "         '2009-05-02 19:05:00': 15727,\n",
       "         '2009-05-02 19:10:00': 15844,\n",
       "         '2009-05-02 19:15:00': 15430,\n",
       "         '2009-05-02 19:20:00': 15708,\n",
       "         '2009-05-02 19:25:00': 15552,\n",
       "         '2009-05-02 19:30:00': 15940,\n",
       "         '2009-05-02 19:35:00': 15932,\n",
       "         '2009-05-02 19:40:00': 15614,\n",
       "         '2009-05-02 19:45:00': 15512,\n",
       "         '2009-05-02 19:50:00': 15708,\n",
       "         '2009-05-02 19:55:00': 15800,\n",
       "         '2009-05-02 20:00:00': 15477,\n",
       "         '2009-05-02 20:05:00': 15712,\n",
       "         '2009-05-02 20:10:00': 15685,\n",
       "         '2009-05-02 20:15:00': 15445,\n",
       "         '2009-05-02 20:20:00': 15483,\n",
       "         '2009-05-02 20:25:00': 15885,\n",
       "         '2009-05-02 20:30:00': 15248,\n",
       "         '2009-05-02 20:35:00': 15229,\n",
       "         '2009-05-02 20:40:00': 15264,\n",
       "         '2009-05-02 20:45:00': 15473,\n",
       "         '2009-05-02 20:50:00': 15285,\n",
       "         '2009-05-02 20:55:00': 15213,\n",
       "         '2009-05-02 21:00:00': 15125,\n",
       "         '2009-05-02 21:05:00': 14902,\n",
       "         '2009-05-02 21:10:00': 15150,\n",
       "         '2009-05-02 21:15:00': 14894,\n",
       "         '2009-05-02 21:20:00': 14797,\n",
       "         '2009-05-02 21:25:00': 14979,\n",
       "         '2009-05-02 21:30:00': 14765,\n",
       "         '2009-05-02 21:35:00': 14885,\n",
       "         '2009-05-02 21:40:00': 14945,\n",
       "         '2009-05-02 21:45:00': 14881,\n",
       "         '2009-05-02 21:50:00': 14670,\n",
       "         '2009-05-02 21:55:00': 14849,\n",
       "         '2009-05-02 22:00:00': 14665,\n",
       "         '2009-05-02 22:05:00': 14700,\n",
       "         '2009-05-02 22:10:00': 14459,\n",
       "         '2009-05-02 22:15:00': 14164,\n",
       "         '2009-05-02 22:20:00': 14446,\n",
       "         '2009-05-02 22:25:00': 13836,\n",
       "         '2009-05-02 22:30:00': 13763,\n",
       "         '2009-05-02 22:35:00': 14068,\n",
       "         '2009-05-02 22:40:00': 14277,\n",
       "         '2009-05-02 22:45:00': 14507,\n",
       "         '2009-05-02 22:50:00': 14344,\n",
       "         '2009-05-02 22:55:00': 14358,\n",
       "         '2009-05-02 23:00:00': 14810,\n",
       "         '2009-05-02 23:05:00': 14206,\n",
       "         '2009-05-02 23:10:00': 14543,\n",
       "         '2009-05-02 23:15:00': 14612,\n",
       "         '2009-05-02 23:20:00': 14466,\n",
       "         '2009-05-02 23:25:00': 14769,\n",
       "         '2009-05-02 23:30:00': 14536,\n",
       "         '2009-05-02 23:35:00': 14489,\n",
       "         '2009-05-02 23:40:00': 14817,\n",
       "         '2009-05-02 23:45:00': 14250,\n",
       "         '2009-05-02 23:50:00': 14642,\n",
       "         '2009-05-02 23:55:00': 14595,\n",
       "         '2009-05-03 00:00:00': 14660,\n",
       "         '2009-05-03 00:05:00': 14380,\n",
       "         '2009-05-03 00:10:00': 14211,\n",
       "         '2009-05-03 00:15:00': 14286,\n",
       "         '2009-05-03 00:20:00': 14543,\n",
       "         '2009-05-03 00:25:00': 14688,\n",
       "         '2009-05-03 00:30:00': 14699,\n",
       "         '2009-05-03 00:35:00': 14747,\n",
       "         '2009-05-03 00:40:00': 14924,\n",
       "         '2009-05-03 00:45:00': 14761,\n",
       "         '2009-05-03 00:50:00': 14730,\n",
       "         '2009-05-03 00:55:00': 14992,\n",
       "         '2009-05-03 01:00:00': 15382,\n",
       "         '2009-05-03 01:05:00': 15038,\n",
       "         '2009-05-03 01:10:00': 14940,\n",
       "         '2009-05-03 01:15:00': 15569,\n",
       "         '2009-05-03 01:20:00': 15359,\n",
       "         '2009-05-03 01:25:00': 15467,\n",
       "         '2009-05-03 01:30:00': 15264,\n",
       "         '2009-05-03 01:35:00': 15085,\n",
       "         '2009-05-03 01:40:00': 14726,\n",
       "         '2009-05-03 01:45:00': 15080,\n",
       "         '2009-05-03 01:50:00': 15365,\n",
       "         '2009-05-03 01:55:00': 14854,\n",
       "         '2009-05-03 02:00:00': 15248,\n",
       "         '2009-05-03 02:05:00': 15206,\n",
       "         '2009-05-03 02:10:00': 15348,\n",
       "         '2009-05-03 02:15:00': 14925,\n",
       "         '2009-05-03 02:20:00': 14908,\n",
       "         '2009-05-03 02:25:00': 14369,\n",
       "         '2009-05-03 02:30:00': 14594,\n",
       "         '2009-05-03 02:35:00': 14205,\n",
       "         '2009-05-03 02:40:00': 14316,\n",
       "         '2009-05-03 02:45:00': 13955,\n",
       "         '2009-05-03 02:50:00': 13968,\n",
       "         '2009-05-03 02:55:00': 14202,\n",
       "         '2009-05-03 03:00:00': 14573,\n",
       "         '2009-05-03 03:05:00': 14552,\n",
       "         '2009-05-03 03:10:00': 14534,\n",
       "         '2009-05-03 03:15:00': 14634,\n",
       "         '2009-05-03 03:20:00': 14319,\n",
       "         '2009-05-03 03:25:00': 14355,\n",
       "         '2009-05-03 03:30:00': 13941,\n",
       "         '2009-05-03 03:35:00': 13419,\n",
       "         '2009-05-03 03:40:00': 13428,\n",
       "         '2009-05-03 03:45:00': 13296,\n",
       "         '2009-05-03 03:50:00': 13289,\n",
       "         '2009-05-03 03:55:00': 13173,\n",
       "         '2009-05-03 04:00:00': 13295,\n",
       "         '2009-05-03 04:05:00': 12859,\n",
       "         '2009-05-03 04:10:00': 12632,\n",
       "         '2009-05-03 04:15:00': 12180,\n",
       "         '2009-05-03 04:20:00': 12021,\n",
       "         '2009-05-03 04:25:00': 11830,\n",
       "         '2009-05-03 04:30:00': 11768,\n",
       "         '2009-05-03 04:35:00': 11520,\n",
       "         '2009-05-03 04:40:00': 11295,\n",
       "         '2009-05-03 04:45:00': 11109,\n",
       "         '2009-05-03 04:50:00': 10938,\n",
       "         '2009-05-03 04:55:00': 10857,\n",
       "         '2009-05-03 05:00:00': 10714,\n",
       "         '2009-05-03 05:05:00': 10531,\n",
       "         '2009-05-03 05:10:00': 10285,\n",
       "         '2009-05-03 05:15:00': 10168,\n",
       "         '2009-05-03 05:20:00': 9707,\n",
       "         '2009-05-03 05:25:00': 9874,\n",
       "         '2009-05-03 05:30:00': 9481,\n",
       "         '2009-05-03 05:35:00': 9470,\n",
       "         '2009-05-03 05:40:00': 9138,\n",
       "         '2009-05-03 05:45:00': 9001,\n",
       "         '2009-05-03 05:50:00': 8767,\n",
       "         '2009-05-03 05:55:00': 8664,\n",
       "         '2009-05-03 06:00:00': 8646,\n",
       "         '2009-05-03 06:05:00': 8605,\n",
       "         '2009-05-03 06:10:00': 8243,\n",
       "         '2009-05-03 06:15:00': 8239,\n",
       "         '2009-05-03 06:20:00': 8098,\n",
       "         '2009-05-03 06:25:00': 7854,\n",
       "         '2009-05-03 06:30:00': 7706,\n",
       "         '2009-05-03 06:35:00': 7506,\n",
       "         '2009-05-03 06:40:00': 7499,\n",
       "         '2009-05-03 06:45:00': 7259,\n",
       "         '2009-05-03 06:50:00': 7438,\n",
       "         '2009-05-03 06:55:00': 5579})"
      ]
     },
     "execution_count": 6,
     "metadata": {},
     "output_type": "execute_result"
    }
   ],
   "source": [
    "visitor_cnt = Counter(timestamp) # every 300s, snapshots of user click behavior were taken\n",
    "\n",
    "print('logging start:', min(list(visitor_cnt.keys())))\n",
    "print('logging end:', max(list(visitor_cnt.keys())))\n",
    "visitor_cnt"
   ]
  },
  {
   "cell_type": "code",
   "execution_count": 7,
   "id": "a5dfa3a4",
   "metadata": {},
   "outputs": [
    {
     "data": {
      "image/png": "[encoded data removed]",
      "text/plain": [
       "<Figure size 1440x360 with 1 Axes>"
      ]
     },
     "metadata": {
      "needs_background": "light"
     },
     "output_type": "display_data"
    }
   ],
   "source": [
    "x, y = zip(*sorted(visitor_cnt.items()))\n",
    "t = list(visitor_cnt.keys())\n",
    "\n",
    "plt.figure(figsize = (20, 5))\n",
    "plt.plot(x, y)\n",
    "plt.xlabel('time', fontsize=12,)\n",
    "plt.ylabel('visitors', fontsize=12,)\n",
    "plt.xticks(np.arange(0, len(t), step=25), [t[i] for i in np.arange(0, len(t), step=25)], fontsize=10, rotation=80)\n",
    "plt.show()"
   ]
  },
  {
   "cell_type": "code",
   "execution_count": null,
   "id": "e4ac88c0",
   "metadata": {},
   "outputs": [],
   "source": []
  },
  {
   "cell_type": "markdown",
   "id": "e978b3b0",
   "metadata": {},
   "source": [
    "  "
   ]
  },
  {
   "cell_type": "markdown",
   "id": "44bcac16",
   "metadata": {},
   "source": [
    "## 2. Data\n",
    "* each line corresponds to a separate user visit\n",
    "    * (1) timestamp\n",
    "    * (2) article id at F1\n",
    "    * (3) reward(user click feedback)\n",
    "    * (4) user feature\n",
    "    * (5) article pool(article feature)"
   ]
  },
  {
   "cell_type": "code",
   "execution_count": 8,
   "id": "62d12536",
   "metadata": {
    "scrolled": true
   },
   "outputs": [
    {
     "data": {
      "text/plain": [
       "b'1241333700 109536 0 |user 2:0.538953 3:0.100827 4:0.056202 5:0.301337 6:0.002680 1:1.000000 |109476 2:0.421669 3:0.000011 4:0.010902 5:0.309585 6:0.257833 1:1.000000 |109566 2:0.297322 3:0.000025 4:0.034951 5:0.413566 6:0.254137 1:1.000000 |109536 2:0.348058 3:0.000031 4:0.016792 5:0.411669 6:0.223450 1:1.000000 |109524 2:0.274868 3:0.000032 4:0.046639 5:0.362209 6:0.316252 1:1.000000 |109541 2:0.333922 3:0.000041 4:0.187718 5:0.234241 6:0.244077 1:1.000000 |109571 2:0.306008 3:0.000450 4:0.077048 5:0.230439 6:0.386055 1:1.000000 |109557 2:0.003949 3:0.000000 4:0.988976 5:0.000667 6:0.006408 1:1.000000 |109568 2:0.000031 3:0.999526 4:0.000024 5:0.000011 6:0.000407 1:1.000000 |109569 2:0.334872 3:0.000000 4:0.054332 5:0.452479 6:0.158317 1:1.000000 |109563 2:0.263181 3:0.000003 4:0.021798 5:0.498398 6:0.216621 1:1.000000 |109564 2:0.306008 3:0.000450 4:0.077048 5:0.230439 6:0.386055 1:1.000000 |109565 2:0.334151 3:0.000005 4:0.014330 5:0.483631 6:0.167883 1:1.000000 |109551 2:0.116434 3:0.000000 4:0.611344 5:0.077418 6:0.194803 1:1.000000 |109567 2:0.362262 3:0.000004 4:0.174201 5:0.267464 6:0.196069 1:1.000000 |109553 2:0.358414 3:0.000082 4:0.056052 5:0.309795 6:0.275657 1:1.000000 |109561 2:0.037081 3:0.000006 4:0.820149 5:0.016605 6:0.126160 1:1.000000 |109560 2:0.268156 3:0.000000 4:0.007015 5:0.536982 6:0.187847 1:1.000000 |109562 2:0.330522 3:0.000206 4:0.052436 5:0.309244 6:0.307591 1:1.000000 |109542 2:0.366902 3:0.000025 4:0.030549 5:0.352425 6:0.250099 1:1.000000\\n'"
      ]
     },
     "execution_count": 8,
     "metadata": {},
     "output_type": "execute_result"
    }
   ],
   "source": [
    "line # ydata-fp-td-clicks-v1_0.20090502.gz 파일의 마지막 line "
   ]
  },
  {
   "cell_type": "code",
   "execution_count": 9,
   "id": "01730e1d",
   "metadata": {},
   "outputs": [
    {
     "data": {
      "text/plain": [
       "[b'1241333700',\n",
       " b'109536',\n",
       " b'0',\n",
       " b'|user',\n",
       " b'2:0.538953',\n",
       " b'3:0.100827',\n",
       " b'4:0.056202',\n",
       " b'5:0.301337',\n",
       " b'6:0.002680',\n",
       " b'1:1.000000',\n",
       " b'|109476',\n",
       " b'2:0.421669',\n",
       " b'3:0.000011',\n",
       " b'4:0.010902',\n",
       " b'5:0.309585',\n",
       " b'6:0.257833',\n",
       " b'1:1.000000',\n",
       " b'|109566',\n",
       " b'2:0.297322',\n",
       " b'3:0.000025',\n",
       " b'4:0.034951',\n",
       " b'5:0.413566',\n",
       " b'6:0.254137',\n",
       " b'1:1.000000',\n",
       " b'|109536',\n",
       " b'2:0.348058',\n",
       " b'3:0.000031',\n",
       " b'4:0.016792',\n",
       " b'5:0.411669',\n",
       " b'6:0.223450',\n",
       " b'1:1.000000',\n",
       " b'|109524',\n",
       " b'2:0.274868',\n",
       " b'3:0.000032',\n",
       " b'4:0.046639',\n",
       " b'5:0.362209',\n",
       " b'6:0.316252',\n",
       " b'1:1.000000',\n",
       " b'|109541',\n",
       " b'2:0.333922',\n",
       " b'3:0.000041',\n",
       " b'4:0.187718',\n",
       " b'5:0.234241',\n",
       " b'6:0.244077',\n",
       " b'1:1.000000',\n",
       " b'|109571',\n",
       " b'2:0.306008',\n",
       " b'3:0.000450',\n",
       " b'4:0.077048',\n",
       " b'5:0.230439',\n",
       " b'6:0.386055',\n",
       " b'1:1.000000',\n",
       " b'|109557',\n",
       " b'2:0.003949',\n",
       " b'3:0.000000',\n",
       " b'4:0.988976',\n",
       " b'5:0.000667',\n",
       " b'6:0.006408',\n",
       " b'1:1.000000',\n",
       " b'|109568',\n",
       " b'2:0.000031',\n",
       " b'3:0.999526',\n",
       " b'4:0.000024',\n",
       " b'5:0.000011',\n",
       " b'6:0.000407',\n",
       " b'1:1.000000',\n",
       " b'|109569',\n",
       " b'2:0.334872',\n",
       " b'3:0.000000',\n",
       " b'4:0.054332',\n",
       " b'5:0.452479',\n",
       " b'6:0.158317',\n",
       " b'1:1.000000',\n",
       " b'|109563',\n",
       " b'2:0.263181',\n",
       " b'3:0.000003',\n",
       " b'4:0.021798',\n",
       " b'5:0.498398',\n",
       " b'6:0.216621',\n",
       " b'1:1.000000',\n",
       " b'|109564',\n",
       " b'2:0.306008',\n",
       " b'3:0.000450',\n",
       " b'4:0.077048',\n",
       " b'5:0.230439',\n",
       " b'6:0.386055',\n",
       " b'1:1.000000',\n",
       " b'|109565',\n",
       " b'2:0.334151',\n",
       " b'3:0.000005',\n",
       " b'4:0.014330',\n",
       " b'5:0.483631',\n",
       " b'6:0.167883',\n",
       " b'1:1.000000',\n",
       " b'|109551',\n",
       " b'2:0.116434',\n",
       " b'3:0.000000',\n",
       " b'4:0.611344',\n",
       " b'5:0.077418',\n",
       " b'6:0.194803',\n",
       " b'1:1.000000',\n",
       " b'|109567',\n",
       " b'2:0.362262',\n",
       " b'3:0.000004',\n",
       " b'4:0.174201',\n",
       " b'5:0.267464',\n",
       " b'6:0.196069',\n",
       " b'1:1.000000',\n",
       " b'|109553',\n",
       " b'2:0.358414',\n",
       " b'3:0.000082',\n",
       " b'4:0.056052',\n",
       " b'5:0.309795',\n",
       " b'6:0.275657',\n",
       " b'1:1.000000',\n",
       " b'|109561',\n",
       " b'2:0.037081',\n",
       " b'3:0.000006',\n",
       " b'4:0.820149',\n",
       " b'5:0.016605',\n",
       " b'6:0.126160',\n",
       " b'1:1.000000',\n",
       " b'|109560',\n",
       " b'2:0.268156',\n",
       " b'3:0.000000',\n",
       " b'4:0.007015',\n",
       " b'5:0.536982',\n",
       " b'6:0.187847',\n",
       " b'1:1.000000',\n",
       " b'|109562',\n",
       " b'2:0.330522',\n",
       " b'3:0.000206',\n",
       " b'4:0.052436',\n",
       " b'5:0.309244',\n",
       " b'6:0.307591',\n",
       " b'1:1.000000',\n",
       " b'|109542',\n",
       " b'2:0.366902',\n",
       " b'3:0.000025',\n",
       " b'4:0.030549',\n",
       " b'5:0.352425',\n",
       " b'6:0.250099',\n",
       " b'1:1.000000']"
      ]
     },
     "execution_count": 9,
     "metadata": {},
     "output_type": "execute_result"
    }
   ],
   "source": [
    "cols = line.split()\n",
    "cols"
   ]
  },
  {
   "cell_type": "markdown",
   "id": "67e65087",
   "metadata": {},
   "source": [
    "#### (1) timestamp"
   ]
  },
  {
   "cell_type": "code",
   "execution_count": 10,
   "id": "655ce71e",
   "metadata": {},
   "outputs": [
    {
     "data": {
      "text/plain": [
       "'2009-05-03 06:55:00'"
      ]
     },
     "execution_count": 10,
     "metadata": {},
     "output_type": "execute_result"
    }
   ],
   "source": [
    "time = int(cols[0])\n",
    "datetime.utcfromtimestamp(time).strftime('%Y-%m-%d %H:%M:%S')"
   ]
  },
  {
   "cell_type": "markdown",
   "id": "1b291020",
   "metadata": {},
   "source": [
    "#### (2) article id at F1\n",
    "* random policy \n",
    "    * the displayed article is chosen uniformly at random from the candidate article pool"
   ]
  },
  {
   "cell_type": "code",
   "execution_count": 11,
   "id": "48cfe50d",
   "metadata": {},
   "outputs": [],
   "source": [
    "article_id_at_f1 = cols[1]\n",
    "\n",
    "article_pool = []\n",
    "for i in range(10, len(cols) - 6, 7):\n",
    "    article_id = cols[i][1:] \n",
    "    article_pool.append(article_id)"
   ]
  },
  {
   "cell_type": "code",
   "execution_count": 12,
   "id": "9c31925b",
   "metadata": {
    "scrolled": true
   },
   "outputs": [
    {
     "name": "stdout",
     "output_type": "stream",
     "text": [
      "19\n"
     ]
    },
    {
     "data": {
      "text/plain": [
       "[b'109476',\n",
       " b'109566',\n",
       " b'109536',\n",
       " b'109524',\n",
       " b'109541',\n",
       " b'109571',\n",
       " b'109557',\n",
       " b'109568',\n",
       " b'109569',\n",
       " b'109563',\n",
       " b'109564',\n",
       " b'109565',\n",
       " b'109551',\n",
       " b'109567',\n",
       " b'109553',\n",
       " b'109561',\n",
       " b'109560',\n",
       " b'109562',\n",
       " b'109542']"
      ]
     },
     "execution_count": 12,
     "metadata": {},
     "output_type": "execute_result"
    }
   ],
   "source": [
    "print(len(article_pool))\n",
    "article_pool"
   ]
  },
  {
   "cell_type": "code",
   "execution_count": 13,
   "id": "c3fdc6bf",
   "metadata": {},
   "outputs": [
    {
     "data": {
      "text/plain": [
       "b'109536'"
      ]
     },
     "execution_count": 13,
     "metadata": {},
     "output_type": "execute_result"
    }
   ],
   "source": [
    "article_id_at_f1"
   ]
  },
  {
   "cell_type": "code",
   "execution_count": 14,
   "id": "71326ee9",
   "metadata": {},
   "outputs": [
    {
     "name": "stdout",
     "output_type": "stream",
     "text": [
      "b'109525' 177879 6676 0.038\n",
      "b'109547' 177418 6666 0.038\n",
      "b'109524' 177581 6491 0.037\n",
      "b'109417' 177072 6256 0.035\n",
      "b'109534' 177060 6135 0.035\n",
      "b'109510' 178224 5911 0.033\n",
      "b'109542' 177032 5764 0.033\n",
      "b'109529' 176314 5627 0.032\n",
      "b'109544' 177890 5421 0.03\n",
      "b'109552' 176119 5180 0.029\n",
      "b'109546' 176915 5062 0.029\n",
      "b'109550' 177014 4977 0.028\n",
      "b'109530' 177719 4911 0.028\n",
      "b'109553' 135429 4824 0.036\n",
      "b'109531' 177155 4645 0.026\n",
      "b'109545' 176523 4545 0.026\n",
      "b'109536' 175263 4463 0.025\n",
      "b'109548' 176896 4391 0.025\n",
      "b'109533' 177196 4352 0.025\n",
      "b'109543' 176638 4346 0.025\n",
      "b'109551' 125996 4285 0.034\n",
      "b'109554' 50193 1148 0.023\n",
      "b'109555' 3500 108 0.031\n",
      "b'109518' 669 16 0.024\n"
     ]
    }
   ],
   "source": [
    "# view count, click count, ctr for each article_id\n",
    "article_view_cnt = {article_id:0 for article_id in articles}\n",
    "article_click_cnt = {article_id:0 for article_id in articles}\n",
    "for event in events:\n",
    "    article_id = articles[event[0]]   \n",
    "    article_view_cnt[article_id] += 1\n",
    "    article_click_cnt[article_id] += event[1]  # reward \n",
    "\n",
    "article_click_cnt = dict(sorted(article_click_cnt.items(),key=lambda x:x[1], reverse=True))\n",
    "for article_id in article_click_cnt.keys():\n",
    "    if article_view_cnt[article_id] >0:\n",
    "        view_cnt = article_view_cnt[article_id]\n",
    "        click_cnt = article_click_cnt[article_id]\n",
    "        ctr = round(click_cnt/view_cnt, 3)\n",
    "        print(article_id, view_cnt, click_cnt, ctr) "
   ]
  },
  {
   "cell_type": "code",
   "execution_count": null,
   "id": "8bafcfa8",
   "metadata": {},
   "outputs": [],
   "source": []
  },
  {
   "cell_type": "markdown",
   "id": "bbc1e709",
   "metadata": {},
   "source": [
    "#### (3) reward\n",
    "* user click feedback\n",
    "* every 300s, snapshots of user click behavior were taken"
   ]
  },
  {
   "cell_type": "code",
   "execution_count": 15,
   "id": "27be1976",
   "metadata": {},
   "outputs": [
    {
     "data": {
      "text/plain": [
       "0"
      ]
     },
     "execution_count": 15,
     "metadata": {},
     "output_type": "execute_result"
    }
   ],
   "source": [
    "reward = int(cols[2])\n",
    "reward"
   ]
  },
  {
   "cell_type": "markdown",
   "id": "af4db4d4",
   "metadata": {},
   "source": [
    "#### (4) user feature"
   ]
  },
  {
   "cell_type": "code",
   "execution_count": 16,
   "id": "05b78de7",
   "metadata": {},
   "outputs": [
    {
     "data": {
      "text/plain": [
       "[0.538953, 0.100827, 0.056202, 0.301337, 0.00268, 1.0]"
      ]
     },
     "execution_count": 16,
     "metadata": {},
     "output_type": "execute_result"
    }
   ],
   "source": [
    "user_feature = [float(x[2:]) for x in cols[4:10]]\n",
    "user_feature"
   ]
  },
  {
   "cell_type": "markdown",
   "id": "c3c5ad0a",
   "metadata": {},
   "source": [
    "#### (5) article pool"
   ]
  },
  {
   "cell_type": "code",
   "execution_count": 17,
   "id": "cb3b6615",
   "metadata": {
    "scrolled": true
   },
   "outputs": [
    {
     "name": "stdout",
     "output_type": "stream",
     "text": [
      "b'109476'\n",
      "[0.421669, 1.1e-05, 0.010902, 0.309585, 0.257833, 1.0]\n",
      "\n",
      "\n",
      "b'109566'\n",
      "[0.297322, 2.5e-05, 0.034951, 0.413566, 0.254137, 1.0]\n",
      "\n",
      "\n",
      "b'109536'\n",
      "[0.348058, 3.1e-05, 0.016792, 0.411669, 0.22345, 1.0]\n",
      "\n",
      "\n",
      "b'109524'\n",
      "[0.274868, 3.2e-05, 0.046639, 0.362209, 0.316252, 1.0]\n",
      "\n",
      "\n",
      "b'109541'\n",
      "[0.333922, 4.1e-05, 0.187718, 0.234241, 0.244077, 1.0]\n",
      "\n",
      "\n",
      "b'109571'\n",
      "[0.306008, 0.00045, 0.077048, 0.230439, 0.386055, 1.0]\n",
      "\n",
      "\n",
      "b'109557'\n",
      "[0.003949, 0.0, 0.988976, 0.000667, 0.006408, 1.0]\n",
      "\n",
      "\n",
      "b'109568'\n",
      "[3.1e-05, 0.999526, 2.4e-05, 1.1e-05, 0.000407, 1.0]\n",
      "\n",
      "\n",
      "b'109569'\n",
      "[0.334872, 0.0, 0.054332, 0.452479, 0.158317, 1.0]\n",
      "\n",
      "\n",
      "b'109563'\n",
      "[0.263181, 3e-06, 0.021798, 0.498398, 0.216621, 1.0]\n",
      "\n",
      "\n",
      "b'109564'\n",
      "[0.306008, 0.00045, 0.077048, 0.230439, 0.386055, 1.0]\n",
      "\n",
      "\n",
      "b'109565'\n",
      "[0.334151, 5e-06, 0.01433, 0.483631, 0.167883, 1.0]\n",
      "\n",
      "\n",
      "b'109551'\n",
      "[0.116434, 0.0, 0.611344, 0.077418, 0.194803, 1.0]\n",
      "\n",
      "\n",
      "b'109567'\n",
      "[0.362262, 4e-06, 0.174201, 0.267464, 0.196069, 1.0]\n",
      "\n",
      "\n",
      "b'109553'\n",
      "[0.358414, 8.2e-05, 0.056052, 0.309795, 0.275657, 1.0]\n",
      "\n",
      "\n",
      "b'109561'\n",
      "[0.037081, 6e-06, 0.820149, 0.016605, 0.12616, 1.0]\n",
      "\n",
      "\n",
      "b'109560'\n",
      "[0.268156, 0.0, 0.007015, 0.536982, 0.187847, 1.0]\n",
      "\n",
      "\n",
      "b'109562'\n",
      "[0.330522, 0.000206, 0.052436, 0.309244, 0.307591, 1.0]\n",
      "\n",
      "\n",
      "b'109542'\n",
      "[0.366902, 2.5e-05, 0.030549, 0.352425, 0.250099, 1.0]\n",
      "\n",
      "\n"
     ]
    }
   ],
   "source": [
    "for i in range(10, len(cols) - 6, 7):\n",
    "    article_id = cols[i][1:]    \n",
    "    article_feature = [float(x[2:]) for x in cols[i+1: i+7]]\n",
    "    \n",
    "    print(article_id)\n",
    "    print(article_feature)\n",
    "    print('\\n')"
   ]
  },
  {
   "cell_type": "code",
   "execution_count": 18,
   "id": "f82bc14a",
   "metadata": {
    "scrolled": true
   },
   "outputs": [
    {
     "name": "stdout",
     "output_type": "stream",
     "text": [
      "전체 article pool 개수: 37\n"
     ]
    },
    {
     "data": {
      "text/plain": [
       "{'0_1_2_3_4_5_6_7_8_9_10_11_12_13_14_15_16_17_18',\n",
       " '0_1_2_3_4_5_6_7_8_9_10_11_12_13_14_15_16_17_18_19_20',\n",
       " '0_1_2_3_4_5_6_7_8_9_10_11_12_13_15_16_17_18_19_20_21',\n",
       " '0_1_2_3_4_5_6_7_8_9_10_11_12_13_15_16_17_18_19_20_21_22',\n",
       " '0_2_3_4_5_6_7_8_9_10_11_12_13_15_16_17_18_19_20_21_22',\n",
       " '0_2_3_4_5_6_7_8_9_10_11_12_13_15_16_17_18_19_20_21_22_23_24',\n",
       " '0_2_4_5_6_8_10_11_12_13_15_16_17_18_19_20_21_22_23_24_25',\n",
       " '0_2_4_5_6_8_10_11_12_13_15_16_17_18_19_20_21_22_23_24_25_26',\n",
       " '0_2_4_5_6_8_10_11_13_15_16_17_18_19_20_21_22_23_24_25_26',\n",
       " '0_2_4_5_6_8_10_11_13_15_16_17_18_19_20_21_22_23_24_25_26_27',\n",
       " '0_2_4_5_6_8_9_10_11_12_13_15_16_17_18_19_20_21_22_23_24',\n",
       " '0_2_4_5_6_8_9_10_11_12_13_15_16_17_18_19_20_21_22_23_24_25',\n",
       " '0_4_5_6_8_10_11_13_15_16_17_18_19_20_21_22_23_24_25_26_27_28',\n",
       " '0_4_5_8_10_11_13_15_16_17_18_19_20_21_22_23_24_25_26_27_28',\n",
       " '0_4_5_8_10_11_13_15_16_17_18_19_20_21_22_23_24_25_26_27_28_29',\n",
       " '0_4_5_8_10_11_13_15_16_17_18_19_20_21_22_23_24_25_26_27_28_29_30',\n",
       " '0_5_10_13_15_16_18_19_20_21_22_23_24_25_26_27_28_29_30_31_32_33',\n",
       " '0_5_10_13_16_18_19_20_21_22_23_24_25_26_27_28_29_30_31_32_33',\n",
       " '0_5_10_13_16_18_19_20_21_22_23_24_25_26_27_28_29_30_31_32_33_34',\n",
       " '0_5_10_13_16_18_19_20_21_23_24_25_26_27_28_29_30_31_32_33_34',\n",
       " '0_5_10_13_16_18_19_20_21_23_24_25_26_27_28_29_30_31_32_33_34_35',\n",
       " '0_5_10_13_16_18_19_20_21_24_25_26_27_28_29_30_31_32_33_34_35',\n",
       " '0_5_10_13_16_18_19_20_21_24_25_26_27_28_29_30_31_32_33_34_35_36',\n",
       " '0_5_10_16_18_19_20_21_24_25_26_27_28_29_30_31_32_33_34_35_36_37',\n",
       " '0_5_16_18_19_20_21_24_25_26_27_28_29_30_31_32_33_34_35_36_37',\n",
       " '0_5_16_18_19_20_21_24_25_26_27_28_29_30_31_32_33_34_35_36_37_38',\n",
       " '0_5_8_10_11_13_15_16_17_18_19_20_21_22_23_24_25_26_27_28_29_30',\n",
       " '0_5_8_10_11_13_15_16_17_18_19_20_21_22_23_24_25_26_27_28_29_30_31_32',\n",
       " '0_5_8_10_13_15_16_18_19_20_21_22_23_24_25_26_27_28_29_30_31_32_33',\n",
       " '5_16_18_19_20_21_24_25_26_27_28_29_30_31_32_33_34_35_36_37_38',\n",
       " '5_16_18_19_20_21_25_26_27_28_29_30_31_32_33_34_35_36_37_38',\n",
       " '5_16_18_19_20_21_25_26_27_28_29_30_31_32_33_34_35_36_37_38_39',\n",
       " '5_16_18_19_20_21_25_26_27_28_29_30_31_32_33_34_35_36_37_38_39_40',\n",
       " '5_16_18_19_20_21_25_26_27_28_29_30_31_32_33_34_35_36_37_38_39_40_41',\n",
       " '5_16_18_19_20_21_25_26_28_29_30_31_32_33_34_35_36_37_38_39_40_41',\n",
       " '5_16_18_19_20_21_25_26_28_29_30_31_32_33_34_35_36_37_38_39_41',\n",
       " '5_16_18_19_20_25_26_28_30_31_32_33_34_35_36_37_38_39_41'}"
      ]
     },
     "execution_count": 18,
     "metadata": {},
     "output_type": "execute_result"
    }
   ],
   "source": [
    "# all article pools \n",
    "total_article_pool = set(['_'.join((map(lambda x: str(x), sorted(e[-1])))) for e in events])\n",
    "\n",
    "print('전체 article pool 개수:', len(total_article_pool))\n",
    "total_article_pool"
   ]
  },
  {
   "cell_type": "code",
   "execution_count": null,
   "id": "d3c18a38",
   "metadata": {},
   "outputs": [],
   "source": []
  },
  {
   "cell_type": "code",
   "execution_count": null,
   "id": "05946c14",
   "metadata": {},
   "outputs": [],
   "source": []
  }
 ],
 "metadata": {
  "kernelspec": {
   "display_name": "Python 3 (ipykernel)",
   "language": "python",
   "name": "python3"
  },
  "language_info": {
   "codemirror_mode": {
    "name": "ipython",
    "version": 3
   },
   "file_extension": ".py",
   "mimetype": "text/x-python",
   "name": "python",
   "nbconvert_exporter": "python",
   "pygments_lexer": "ipython3",
   "version": "3.7.11"
  }
 },
 "nbformat": 4,
 "nbformat_minor": 5
}
